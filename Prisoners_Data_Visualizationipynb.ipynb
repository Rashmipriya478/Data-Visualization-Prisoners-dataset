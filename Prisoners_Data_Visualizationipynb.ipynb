{
  "nbformat": 4,
  "nbformat_minor": 0,
  "metadata": {
    "colab": {
      "private_outputs": true,
      "provenance": []
    },
    "kernelspec": {
      "name": "python3",
      "display_name": "Python 3"
    },
    "language_info": {
      "name": "python"
    }
  },
  "cells": [
    {
      "cell_type": "markdown",
      "source": [
        "#Prisoners Data Visualization"
      ],
      "metadata": {
        "id": "NnxayDRZJg1i"
      }
    },
    {
      "cell_type": "markdown",
      "source": [
        "Step 1: Import the necessary libraries"
      ],
      "metadata": {
        "id": "N-K22zkBJ7yh"
      }
    },
    {
      "cell_type": "code",
      "source": [
        "import pandas as pd"
      ],
      "metadata": {
        "id": "240MnbubJ9fY"
      },
      "execution_count": null,
      "outputs": []
    },
    {
      "cell_type": "markdown",
      "source": [
        "Step 2: Load the data and display first 5 and last 5 records"
      ],
      "metadata": {
        "id": "Lqg7eox7KBHo"
      }
    },
    {
      "cell_type": "code",
      "source": [
        "data = pd.read_csv('Prisoners-Dataset.csv')"
      ],
      "metadata": {
        "id": "jZaIQdVvKBwm"
      },
      "execution_count": null,
      "outputs": []
    },
    {
      "cell_type": "code",
      "source": [
        "data.head()"
      ],
      "metadata": {
        "id": "6um9YKH6KE-U"
      },
      "execution_count": null,
      "outputs": []
    },
    {
      "cell_type": "code",
      "source": [
        "data.tail()"
      ],
      "metadata": {
        "id": "TFScWYJTKHKU"
      },
      "execution_count": null,
      "outputs": []
    },
    {
      "cell_type": "markdown",
      "source": [
        "#Step 3: Describe the data"
      ],
      "metadata": {
        "id": "ghEZbWZ0KJZM"
      }
    },
    {
      "cell_type": "code",
      "source": [
        "data.describe()"
      ],
      "metadata": {
        "id": "3mHl-wv4KLWv"
      },
      "execution_count": null,
      "outputs": []
    },
    {
      "cell_type": "markdown",
      "source": [
        "Step 4: Create a column 'total_benefitted' that shows sum of inmates with respect to each State/UT"
      ],
      "metadata": {
        "id": "M3YGUCu2KRKY"
      }
    },
    {
      "cell_type": "code",
      "source": [
        "data.info()"
      ],
      "metadata": {
        "id": "kVNq5OajKS1s"
      },
      "execution_count": null,
      "outputs": []
    },
    {
      "cell_type": "code",
      "source": [
        "int_columns = data.select_dtypes('int64').columns.tolist()[1:]"
      ],
      "metadata": {
        "id": "MikI7yY-KVO7"
      },
      "execution_count": null,
      "outputs": []
    },
    {
      "cell_type": "code",
      "source": [
        "int_columns"
      ],
      "metadata": {
        "id": "Gf7dqmavKXDv"
      },
      "execution_count": null,
      "outputs": []
    },
    {
      "cell_type": "code",
      "source": [
        "data['total_benefitted'] = data[int_columns].sum(axis=1)"
      ],
      "metadata": {
        "id": "n8gqECTPKZRc"
      },
      "execution_count": null,
      "outputs": []
    },
    {
      "cell_type": "code",
      "source": [
        "data.head(2)"
      ],
      "metadata": {
        "id": "750X5LrAKbEZ"
      },
      "execution_count": null,
      "outputs": []
    },
    {
      "cell_type": "markdown",
      "source": [
        "Step 5: Create a bar chart with total benefitted inmates values in descending order"
      ],
      "metadata": {
        "id": "OA3eF6RGKg6l"
      }
    },
    {
      "cell_type": "code",
      "source": [
        "data.shape"
      ],
      "metadata": {
        "id": "HFE9w0-LKfxo"
      },
      "execution_count": null,
      "outputs": []
    },
    {
      "cell_type": "code",
      "source": [
        "data = data.set_index('STATE/UT')"
      ],
      "metadata": {
        "id": "-Fn9tLU8KlnM"
      },
      "execution_count": null,
      "outputs": []
    },
    {
      "cell_type": "code",
      "source": [
        "data.head()"
      ],
      "metadata": {
        "id": "P0AB03sVKmcB"
      },
      "execution_count": null,
      "outputs": []
    },
    {
      "cell_type": "code",
      "source": [
        "total_benefitted = data['total_benefitted'].sort_values(ascending=False)"
      ],
      "metadata": {
        "id": "ZmWnN7ErKtn3"
      },
      "execution_count": null,
      "outputs": []
    },
    {
      "cell_type": "code",
      "source": [
        "total_benefitted.head()"
      ],
      "metadata": {
        "id": "JrJW3ewsKvVR"
      },
      "execution_count": null,
      "outputs": []
    },
    {
      "cell_type": "code",
      "source": [
        "import matplotlib.pyplot as plt\n",
        "import seaborn as sns"
      ],
      "metadata": {
        "id": "1UaS4M2KKxHe"
      },
      "execution_count": null,
      "outputs": []
    },
    {
      "cell_type": "code",
      "source": [
        "sns.set()"
      ],
      "metadata": {
        "id": "Sl0Fam-mKyop"
      },
      "execution_count": null,
      "outputs": []
    },
    {
      "cell_type": "code",
      "source": [
        "plt.figure(figsize=(15, 15))\n",
        "plt.barh(y=total_benefitted.index,\n",
        "         width=total_benefitted, data=total_benefitted.sort_values())\n",
        "plt.show()"
      ],
      "metadata": {
        "id": "ySyCL3lZK0V8"
      },
      "execution_count": null,
      "outputs": []
    },
    {
      "cell_type": "markdown",
      "source": [
        "Step 6: Create a pie chart to show ratio among different modes of benefits"
      ],
      "metadata": {
        "id": "2qltNsdIK6tV"
      }
    },
    {
      "cell_type": "code",
      "source": [
        "total_adults_benefit = data['No. of Inmates benefitted by Adult Education'].sum(axis=0)"
      ],
      "metadata": {
        "id": "JWQEDo9KK9Dv"
      },
      "execution_count": null,
      "outputs": []
    },
    {
      "cell_type": "code",
      "source": [
        "total_elementary = data['No. of Inmates benefitted by Elementary Education'].sum(axis=0)"
      ],
      "metadata": {
        "id": "CHBzYNr1K9Gk"
      },
      "execution_count": null,
      "outputs": []
    },
    {
      "cell_type": "code",
      "source": [
        "total_higher = data['No. of Inmates benefitted by Higher Education'].sum(axis=0)"
      ],
      "metadata": {
        "id": "bgZ2Bq-mK9Lo"
      },
      "execution_count": null,
      "outputs": []
    },
    {
      "cell_type": "code",
      "source": [
        "total_computer = data['No. of Inmates benefitted by Computer Course'].sum(axis=0)"
      ],
      "metadata": {
        "id": "hpg0_hnmLGMf"
      },
      "execution_count": null,
      "outputs": []
    },
    {
      "cell_type": "code",
      "source": [
        "total_benefits = {'Adults Benefits': total_adults_benefit,\n",
        "                 'Elementary Benefits': total_elementary,\n",
        "                 'Higher Benefits': total_higher,\n",
        "                 'Computer Benefits': total_computer}"
      ],
      "metadata": {
        "id": "tjYddHrSLH6a"
      },
      "execution_count": null,
      "outputs": []
    },
    {
      "cell_type": "code",
      "source": [
        "total_benefits_df = pd.Series(data=total_benefits)"
      ],
      "metadata": {
        "id": "ydN0JEReLKiG"
      },
      "execution_count": null,
      "outputs": []
    },
    {
      "cell_type": "code",
      "source": [
        "total_benefits_df"
      ],
      "metadata": {
        "id": "xUeg5949LMks"
      },
      "execution_count": null,
      "outputs": []
    },
    {
      "cell_type": "code",
      "source": [
        "plt.figure(figsize=(15, 10))\n",
        "plt.pie(total_benefits_df, labels=total_benefits_df.index,\n",
        "        autopct=\"%.2f\", explode=(0, 0, 0, 0))"
      ],
      "metadata": {
        "id": "9QpmDyjcLRYA"
      },
      "execution_count": null,
      "outputs": []
    },
    {
      "cell_type": "markdown",
      "source": [
        "Step 7: For the 5 highest benefitted states, create\n",
        "\n",
        "Bar chart.\n",
        "\n",
        "Stacked bar chart.\n",
        "\n",
        "100% stacked chart."
      ],
      "metadata": {
        "id": "jIzx7ljULUoG"
      }
    },
    {
      "cell_type": "code",
      "source": [
        "data.head(1)"
      ],
      "metadata": {
        "id": "Y5ZMYIQGLaRl"
      },
      "execution_count": null,
      "outputs": []
    },
    {
      "cell_type": "code",
      "source": [
        "highest_benefitted = data['total_benefitted'].sort_values(ascending=False)[:5]"
      ],
      "metadata": {
        "id": "ym7lVDHvLgjZ"
      },
      "execution_count": null,
      "outputs": []
    },
    {
      "cell_type": "code",
      "source": [
        "highest_states = highest_benefitted.index.tolist()"
      ],
      "metadata": {
        "id": "f-yzgPWYLjQX"
      },
      "execution_count": null,
      "outputs": []
    },
    {
      "cell_type": "code",
      "source": [
        "highest_states"
      ],
      "metadata": {
        "id": "R2Bgbw0FLm8S"
      },
      "execution_count": null,
      "outputs": []
    },
    {
      "cell_type": "code",
      "source": [
        "highest_benefitted = data[int_columns][data.index.isin(highest_states)]"
      ],
      "metadata": {
        "id": "vp74ElUNLpgO"
      },
      "execution_count": null,
      "outputs": []
    },
    {
      "cell_type": "code",
      "source": [
        "highest_benefitted"
      ],
      "metadata": {
        "id": "gyk77JC4Lrrs"
      },
      "execution_count": null,
      "outputs": []
    },
    {
      "cell_type": "code",
      "source": [
        "highest_benefitted.columns"
      ],
      "metadata": {
        "id": "34ZtDDvTLtg6"
      },
      "execution_count": null,
      "outputs": []
    },
    {
      "cell_type": "code",
      "source": [
        "highest_benefitted.rename({\n",
        "    'No. of Inmates benefitted by Elementary Education': 'Elementary Edu',\n",
        "    'No. of Inmates benefitted by Adult Education': 'Adult Edu',\n",
        "    'No. of Inmates benefitted by Higher Education': 'Higher Edu',\n",
        "    'No. of Inmates benefitted by Computer Course': 'Computer Course'\n",
        "}, axis=1, inplace=True)"
      ],
      "metadata": {
        "id": "DjTLC3sOLwOg"
      },
      "execution_count": null,
      "outputs": []
    },
    {
      "cell_type": "markdown",
      "source": [
        "#Bar Chart"
      ],
      "metadata": {
        "id": "Yz-lFdIbLzi1"
      }
    },
    {
      "cell_type": "code",
      "source": [
        "sns.set(rc={'figure.figsize':(15, 7)})\n",
        "highest_benefitted.plot(kind='bar')"
      ],
      "metadata": {
        "id": "H1gd-Q6ZL2D6"
      },
      "execution_count": null,
      "outputs": []
    },
    {
      "cell_type": "markdown",
      "source": [
        "#Stacked Chart"
      ],
      "metadata": {
        "id": "ZZ1MnWz9L6UJ"
      }
    },
    {
      "cell_type": "code",
      "source": [
        "sns.set(rc={'figure.figsize':(15,7)})\n",
        "highest_benefitted.plot(kind='bar', stacked=True)"
      ],
      "metadata": {
        "id": "rWiuYKdUL8lv"
      },
      "execution_count": null,
      "outputs": []
    },
    {
      "cell_type": "markdown",
      "source": [
        "#100% Stacked Bar Chart"
      ],
      "metadata": {
        "id": "Lb35agOdL-r2"
      }
    },
    {
      "cell_type": "code",
      "source": [
        "highest_benefitted = highest_benefitted.apply(lambda x: round(100 * x/float(x.sum())))"
      ],
      "metadata": {
        "id": "kiwChVGYMBMt"
      },
      "execution_count": null,
      "outputs": []
    },
    {
      "cell_type": "code",
      "source": [
        "highest_benefitted['Total'] = highest_benefitted['Elementary Edu'] + highest_benefitted['Adult Edu'] + highest_benefitted['Higher Edu'] + highest_benefitted['Computer Course']"
      ],
      "metadata": {
        "id": "0tGv4U_DMTQn"
      },
      "execution_count": null,
      "outputs": []
    },
    {
      "cell_type": "code",
      "source": [
        "highest_benefitted"
      ],
      "metadata": {
        "id": "htS3wEV3MVaS"
      },
      "execution_count": null,
      "outputs": []
    },
    {
      "cell_type": "code",
      "source": [
        "new_data = highest_benefitted.apply(lambda x: round(100 * x/highest_benefitted['Total']))"
      ],
      "metadata": {
        "id": "_XosJ_ayMYYv"
      },
      "execution_count": null,
      "outputs": []
    },
    {
      "cell_type": "code",
      "source": [
        "\n",
        "new_data.drop('Total', axis=1, inplace=True)"
      ],
      "metadata": {
        "id": "3n0vJTMOMZ8f"
      },
      "execution_count": null,
      "outputs": []
    },
    {
      "cell_type": "code",
      "source": [
        "highest_benefitted"
      ],
      "metadata": {
        "id": "D_qxiHRsMciZ"
      },
      "execution_count": null,
      "outputs": []
    },
    {
      "cell_type": "code",
      "source": [
        "sns.set(rc={'figure.figsize':(15,7)})\n",
        "new_data.plot(kind='bar', stacked=True)"
      ],
      "metadata": {
        "id": "Wd8_kO1yMfAP"
      },
      "execution_count": null,
      "outputs": []
    }
  ]
}